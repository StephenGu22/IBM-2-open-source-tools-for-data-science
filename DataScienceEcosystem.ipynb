{
  "metadata": {
    "kernelspec": {
      "name": "python",
      "display_name": "Python (Pyodide)",
      "language": "python"
    },
    "language_info": {
      "codemirror_mode": {
        "name": "python",
        "version": 3
      },
      "file_extension": ".py",
      "mimetype": "text/x-python",
      "name": "python",
      "nbconvert_exporter": "python",
      "pygments_lexer": "ipython3",
      "version": "3.8"
    }
  },
  "nbformat_minor": 5,
  "nbformat": 4,
  "cells": [
    {
      "id": "0288b36f-589c-4e3b-be96-c1f841af1cbe",
      "cell_type": "markdown",
      "source": "## Exercise 2: Create markdown cell with title of the notebook\n\n# Data Science Tools and Ecosystem",
      "metadata": {}
    },
    {
      "id": "2dc3b869-b327-4f26-9d33-c590b71e83a0",
      "cell_type": "markdown",
      "source": "## Exercise 3 - Create a markdown cell for an introduction\n\nIn this notebook, Data Science Tools and Ecosystem are summarized.",
      "metadata": {}
    },
    {
      "id": "914d69e9-9d08-4983-b293-7d3249624457",
      "cell_type": "markdown",
      "source": "**Objectives:**\n\nlist the objectives that this notebook covered:\n* Introduction\n* A list of data science languages\n* A list of data science libraries\n* A list of data science tools\n* Examples of evaluating arithmetic expressions in Python",
      "metadata": {}
    },
    {
      "id": "9b274687-9f5c-44b4-8087-fc43b6c7a932",
      "cell_type": "markdown",
      "source": "## Exercise 4 - Create a markdown cell to list data science languages\n\nSome of the popular languages that Data Scientists use are:\n1. Python\n2. Java\n3. C++\n4. C",
      "metadata": {
        "jp-MarkdownHeadingCollapsed": true
      }
    },
    {
      "id": "311eeb0e-5bf4-4772-ac59-e7550a1469d4",
      "cell_type": "markdown",
      "source": "## Exercise 5 - Create a markdown cell to list data science libraries\n\nSome of the commonly used libraries used by Data Scientists include:\n1. Pandas\n2. NumPy\n3. Matplotlib\n4. Seaborn\n5. Scikit-learn",
      "metadata": {}
    },
    {
      "id": "dc26cac2-6a69-4c62-ad56-f1712d16eb7c",
      "cell_type": "markdown",
      "source": "## Exercise 6 - Create a markdown cell with a table of Data Science tools\n",
      "metadata": {}
    },
    {
      "id": "c681cb86-f95b-486a-a6f9-8333177e0356",
      "cell_type": "markdown",
      "source": "| a table of Data Science tools |\n|---|\n| JupyterLite | \n| Apache Spark | \n| CodePen |\n| Visual Studio | \n| Google Colab | ",
      "metadata": {}
    },
    {
      "id": "e63b5040-72c9-44a6-9a82-0c4e7733a584",
      "cell_type": "markdown",
      "source": "## Exercise 7 - Create a markdown cell introducing arithmetic expression examples\n\n### Below are a few examples of evaluating arithmetic expressions in Python",
      "metadata": {}
    },
    {
      "id": "275ad182-fba8-4efd-ac95-8c55e4b4552f",
      "cell_type": "code",
      "source": "# Arithmetic operations\ncode = 5+4\nprint(\"Result is: \"+str(code))\n# Result: 9",
      "metadata": {
        "trusted": true
      },
      "outputs": [
        {
          "name": "stdout",
          "text": "Result is: 9\n",
          "output_type": "stream"
        }
      ],
      "execution_count": 17
    },
    {
      "id": "162363fe-c194-4f77-901d-e6ff15196a09",
      "cell_type": "markdown",
      "source": "## Exercise 8 - Create a code cell to multiply and add numbers\n\nThis a simple arithmetic expression to mutiply then add integers",
      "metadata": {}
    },
    {
      "id": "09fb8cd3-ce07-4f85-a969-4dfe9ea72844",
      "cell_type": "code",
      "source": "(3*4)+5\n# Result: 17",
      "metadata": {
        "trusted": true
      },
      "outputs": [
        {
          "execution_count": 18,
          "output_type": "execute_result",
          "data": {
            "text/plain": "17"
          },
          "metadata": {}
        }
      ],
      "execution_count": 18
    },
    {
      "id": "142fef03-64d8-4f66-8674-14c968de4e56",
      "cell_type": "markdown",
      "source": "## Exercise 9 - Create a code cell to convert minutes to hours\n\nThis will convert 200 minutes to hours by diving by 60",
      "metadata": {}
    },
    {
      "id": "92879c34-05e2-484d-92b5-a0c23c85ec36",
      "cell_type": "code",
      "source": "minite_time = 200\nhour_time = minite_time/60\nprint( str(hour_time) + \" hours \" )\n",
      "metadata": {
        "trusted": true
      },
      "outputs": [
        {
          "name": "stdout",
          "text": "3.3333333333333335 hours \n",
          "output_type": "stream"
        }
      ],
      "execution_count": 19
    },
    {
      "id": "7ea899bd-79a2-4643-ade1-f9200e5b6f70",
      "cell_type": "markdown",
      "source": "## Exercise 10 - Insert a markdown cell to list Objectives",
      "metadata": {}
    },
    {
      "id": "96f97231-3efe-4c09-b5f5-d3950a17b813",
      "cell_type": "markdown",
      "source": "## Exercise 11 - Create a markdown cell to indicate the Author's name\n\n\n## Author: \nZihao Gu",
      "metadata": {}
    },
    {
      "id": "d96c633b-95fd-40de-8365-44a16f1813a2",
      "cell_type": "code",
      "source": "",
      "metadata": {
        "trusted": true
      },
      "outputs": [],
      "execution_count": null
    }
  ]
}